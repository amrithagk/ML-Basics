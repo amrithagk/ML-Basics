{
  "nbformat": 4,
  "nbformat_minor": 0,
  "metadata": {
    "colab": {
      "provenance": [],
      "collapsed_sections": []
    },
    "kernelspec": {
      "name": "python3",
      "display_name": "Python 3"
    },
    "language_info": {
      "name": "python"
    }
  },
  "cells": [
    {
      "cell_type": "markdown",
      "source": [
        "#MNIST Hand-written digit recognition using CNN"
      ],
      "metadata": {
        "id": "3_1hUep8VsxY"
      }
    },
    {
      "cell_type": "code",
      "execution_count": null,
      "metadata": {
        "id": "pjoeW508GnMY"
      },
      "outputs": [],
      "source": [
        "import tensorflow as tf\n",
        "from tensorflow import keras\n",
        "from tensorflow.keras.models import Sequential\n",
        "from tensorflow.keras.layers import Activation, Dense, Flatten, BatchNormalization, Conv2D, MaxPool2D\n",
        "from tensorflow.keras.optimizers import Adam\n",
        "from tensorflow.keras.metrics import categorical_crossentropy\n",
        "from tensorflow.keras.preprocessing.image import ImageDataGenerator\n",
        "from sklearn.metrics import confusion_matrix\n",
        "from sklearn.metrics import ConfusionMatrixDisplay\n",
        "\n",
        "import numpy as np\n",
        "import matplotlib.pyplot as plt\n"
      ]
    },
    {
      "cell_type": "markdown",
      "source": [
        "#PREPARING THE DATASET\n",
        "\n",
        "\n"
      ],
      "metadata": {
        "id": "Kin7UkwSV-A0"
      }
    },
    {
      "cell_type": "code",
      "source": [
        "#Importing the dataset\n",
        "mnist = tf.keras.datasets.mnist\n",
        "(train_images, train_labels),(test_images, test_labels) = mnist.load_data()"
      ],
      "metadata": {
        "id": "_O_okYnvR6Ko",
        "colab": {
          "base_uri": "https://localhost:8080/"
        },
        "outputId": "df0006ca-a973-473b-e337-79afbf9b8e82"
      },
      "execution_count": null,
      "outputs": [
        {
          "output_type": "stream",
          "name": "stdout",
          "text": [
            "Downloading data from https://storage.googleapis.com/tensorflow/tf-keras-datasets/mnist.npz\n",
            "11490434/11490434 [==============================] - 1s 0us/step\n"
          ]
        }
      ]
    },
    {
      "cell_type": "code",
      "source": [
        "\n",
        "# Reshaping the data\n",
        "#Creating single channel images to obtain grayscale images\n",
        "train_images = train_images.reshape(60000, 28, 28, 1)\n",
        "test_images = test_images.reshape(10000, 28, 28, 1)\n",
        "\n",
        "# Normalize the data\n",
        "# We are normalizing the data to make sure that the single values lie between 0 and 1 and not between 0 and 255\n",
        "train_images = train_images / 255.0\n",
        "test_images = test_images / 255.0"
      ],
      "metadata": {
        "id": "deTrnK63VtHf"
      },
      "execution_count": null,
      "outputs": []
    },
    {
      "cell_type": "markdown",
      "source": [
        "#CREATING THE ARCHITECTURE OF THE MODEL"
      ],
      "metadata": {
        "id": "FQEryWvxXRxk"
      }
    },
    {
      "cell_type": "code",
      "source": [
        "# Define the model\n",
        "model = Sequential()                                                                 # Sequential() is for stacking multiple layers on top of each other\n",
        "model.add(Conv2D(32, (3, 3), activation='relu', input_shape=(28, 28, 1)))            # input_shape specifies the dimensions of the image. The third parameter \"1\" stands for color channel (it's 1 for a greyscale images)\n",
        "model.add(MaxPool2D(2, 2))                                                           # the function MaxPool2D() is for pooling the data. Pooling reduces the size of our image and highlights the important information\n",
        "model.add(Flatten())                                                                 # The function Flatten() converts the pixels data into 1D array\n",
        "model.add(Dense(128, activation='relu'))                                             # The Dense function creates a layer in our neural network\n",
        "model.add(Dense(10, activation='softmax'))\n",
        "\n",
        "# Compile the model\n",
        "model.compile(optimizer='adam',\n",
        "              loss='sparse_categorical_crossentropy',\n",
        "              metrics=['accuracy'])"
      ],
      "metadata": {
        "id": "YUT6L02VW_6_"
      },
      "execution_count": null,
      "outputs": []
    },
    {
      "cell_type": "markdown",
      "source": [
        "#TRAINING THE MODEL"
      ],
      "metadata": {
        "id": "JnKQXei9XpNS"
      }
    },
    {
      "cell_type": "code",
      "source": [
        "train_result = model.fit(train_images, train_labels, validation_split=0.15, batch_size = 100, epochs=10, verbose=2)\n",
        "print(np.array(train_result))"
      ],
      "metadata": {
        "colab": {
          "base_uri": "https://localhost:8080/"
        },
        "id": "p6MkNRPgXtLm",
        "outputId": "dd5bd365-6758-484f-f6b9-c9eefb2b261d"
      },
      "execution_count": null,
      "outputs": [
        {
          "output_type": "stream",
          "name": "stdout",
          "text": [
            "Epoch 1/10\n",
            "510/510 - 23s - loss: 0.2324 - accuracy: 0.9338 - val_loss: 0.0950 - val_accuracy: 0.9738 - 23s/epoch - 45ms/step\n",
            "Epoch 2/10\n",
            "510/510 - 18s - loss: 0.0697 - accuracy: 0.9791 - val_loss: 0.0636 - val_accuracy: 0.9823 - 18s/epoch - 36ms/step\n",
            "Epoch 3/10\n",
            "510/510 - 19s - loss: 0.0470 - accuracy: 0.9854 - val_loss: 0.0638 - val_accuracy: 0.9816 - 19s/epoch - 36ms/step\n",
            "Epoch 4/10\n",
            "510/510 - 18s - loss: 0.0342 - accuracy: 0.9895 - val_loss: 0.0568 - val_accuracy: 0.9834 - 18s/epoch - 36ms/step\n",
            "Epoch 5/10\n",
            "510/510 - 19s - loss: 0.0241 - accuracy: 0.9927 - val_loss: 0.0542 - val_accuracy: 0.9856 - 19s/epoch - 37ms/step\n",
            "Epoch 6/10\n",
            "510/510 - 18s - loss: 0.0188 - accuracy: 0.9944 - val_loss: 0.0513 - val_accuracy: 0.9849 - 18s/epoch - 36ms/step\n",
            "Epoch 7/10\n",
            "510/510 - 18s - loss: 0.0144 - accuracy: 0.9955 - val_loss: 0.0533 - val_accuracy: 0.9850 - 18s/epoch - 36ms/step\n",
            "Epoch 8/10\n",
            "510/510 - 18s - loss: 0.0095 - accuracy: 0.9972 - val_loss: 0.0622 - val_accuracy: 0.9827 - 18s/epoch - 36ms/step\n",
            "Epoch 9/10\n",
            "510/510 - 18s - loss: 0.0080 - accuracy: 0.9977 - val_loss: 0.0573 - val_accuracy: 0.9867 - 18s/epoch - 36ms/step\n",
            "Epoch 10/10\n",
            "510/510 - 18s - loss: 0.0058 - accuracy: 0.9982 - val_loss: 0.0634 - val_accuracy: 0.9847 - 18s/epoch - 36ms/step\n",
            "<keras.callbacks.History object at 0x7fbadea30710>\n"
          ]
        }
      ]
    },
    {
      "cell_type": "markdown",
      "source": [
        "#TESTING THE MODEL"
      ],
      "metadata": {
        "id": "VcaFAu_Xgsja"
      }
    },
    {
      "cell_type": "code",
      "source": [
        "prediction = model.evaluate(test_images, test_labels)\n",
        "print(np.array(prediction))"
      ],
      "metadata": {
        "id": "6-fV-vi5a7Bv",
        "colab": {
          "base_uri": "https://localhost:8080/"
        },
        "outputId": "e053f776-913e-4b8f-b0fa-3f14ea187761"
      },
      "execution_count": null,
      "outputs": [
        {
          "output_type": "stream",
          "name": "stdout",
          "text": [
            "313/313 [==============================] - 2s 6ms/step - loss: 0.0509 - accuracy: 0.9861\n",
            "[0.05093804 0.98610002]\n"
          ]
        }
      ]
    },
    {
      "cell_type": "code",
      "source": [
        "test_result = model.predict(x=test_images, verbose=2)\n",
        "print(test_result)"
      ],
      "metadata": {
        "colab": {
          "base_uri": "https://localhost:8080/"
        },
        "id": "CI6m3j2jhpXb",
        "outputId": "774b585a-1773-4a47-9584-19083e58109f"
      },
      "execution_count": null,
      "outputs": [
        {
          "output_type": "stream",
          "name": "stdout",
          "text": [
            "313/313 - 2s - 2s/epoch - 6ms/step\n",
            "[[9.57910227e-12 7.23033466e-10 1.09106722e-07 ... 9.99999821e-01\n",
            "  4.53970594e-09 1.71500147e-10]\n",
            " [1.22576682e-09 1.49949244e-07 9.99999821e-01 ... 3.38687791e-13\n",
            "  8.53559064e-12 4.04862504e-13]\n",
            " [2.34256134e-08 9.99997437e-01 1.13255965e-08 ... 2.26432022e-07\n",
            "  2.33551589e-07 6.50328125e-10]\n",
            " ...\n",
            " [7.36487471e-17 1.30811681e-12 1.76364254e-14 ... 1.42985092e-12\n",
            "  6.13954887e-10 1.09720955e-10]\n",
            " [3.92350423e-11 8.87863567e-13 5.63671661e-14 ... 6.46766668e-11\n",
            "  4.07750622e-06 3.73981174e-13]\n",
            " [4.96909642e-13 4.18887612e-18 2.27112369e-14 ... 4.39811766e-18\n",
            "  2.76933339e-14 3.87163048e-15]]\n"
          ]
        }
      ]
    },
    {
      "cell_type": "markdown",
      "source": [
        "#DISPLAYING FEW OF THE TEST RESULTS"
      ],
      "metadata": {
        "id": "yIP_zzfL6xAd"
      }
    },
    {
      "cell_type": "code",
      "source": [
        "for i in range(20):\n",
        "  plt.subplot(2, 10, i+1)\n",
        "  pixels = test_images[i].reshape((28, 28))\n",
        "  plt.grid(False)\n",
        "  plt.yticks([])\n",
        "  plt.xticks([])\n",
        "  plt.imshow(pixels)\n",
        "  plt.xlabel(list(test_result[i]).index(max(test_result[i])))                     #We labelled the images that were fed into model with the value predicted by it\n",
        "plt.show()"
      ],
      "metadata": {
        "colab": {
          "base_uri": "https://localhost:8080/",
          "height": 192
        },
        "id": "Tc5QJbff32BY",
        "outputId": "82be357f-ba72-4a9a-8402-b0aef55b1541"
      },
      "execution_count": null,
      "outputs": [
        {
          "output_type": "display_data",
          "data": {
            "text/plain": [
              "<Figure size 432x288 with 20 Axes>"
            ],
            "image/png": "[encoded data removed]"
          },
          "metadata": {}
        }
      ]
    },
    {
      "cell_type": "markdown",
      "source": [
        "##We observe that among the 20 images above, 19 of them have been predicted correctly and 1 has been predicted incorrectly"
      ],
      "metadata": {
        "id": "edoP42618NbN"
      }
    },
    {
      "cell_type": "markdown",
      "source": [
        "## CONFUSION MATRIX"
      ],
      "metadata": {
        "id": "I4JCKEOhRK0E"
      }
    },
    {
      "cell_type": "code",
      "source": [
        "cm = confusion_matrix(np.array(test_labels), np.argmax(test_result,axis=1))         #creating a confusion matrix for true and predicted data\n",
        "\n",
        "target_names = [\"0\", \"1\", \"2\", \"3\", \"4\", \"5\", \"6\", \"7\", \"8\", \"9\"]                   #adding labels to all rows and columns\n",
        "disp = ConfusionMatrixDisplay(cm, display_labels=target_names)                      #displaying the confusion matrix\n",
        "disp.plot(cmap=plt.cm.Blues, xticks_rotation=45)\n",
        "plt.savefig(\"conf.png\")"
      ],
      "metadata": {
        "colab": {
          "base_uri": "https://localhost:8080/",
          "height": 281
        },
        "id": "ZZxHffgXDsf7",
        "outputId": "20f09ae0-6d17-4f0b-b0a0-eac19b006e39"
      },
      "execution_count": null,
      "outputs": [
        {
          "output_type": "display_data",
          "data": {
            "text/plain": [
              "<Figure size 432x288 with 2 Axes>"
            ],
            "image/png": "[encoded data removed]"
          },
          "metadata": {
            "needs_background": "light"
          }
        }
      ]
    }
  ]
}